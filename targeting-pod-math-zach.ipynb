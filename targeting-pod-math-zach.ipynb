{
 "cells": [
  {
   "cell_type": "code",
   "execution_count": 1,
   "id": "classical-wisconsin",
   "metadata": {},
   "outputs": [],
   "source": [
    "import numpy as np\n",
    "import matplotlib.pyplot as plt\n",
    "import zach_math as zm"
   ]
  },
  {
   "cell_type": "code",
   "execution_count": 4,
   "id": "dietary-issue",
   "metadata": {},
   "outputs": [],
   "source": [
    "ac_pos = (0, 0, 0) # Aircraft position in inertial frame (x, y, h)\n",
    "ac_att = (0, 0, 0) # Aircraft attitude in inertial frame (pitch, yaw, roll)\n",
    "gim_pos = (0, 0, 0) # Gimbal position in body frame (x, y, h)\n",
    "gim_att = (0, 0, 0) # Gimbal attitude in body frame (pitch, yaw, roll)\n",
    "cam_pos = (0, 0, 0) # Camera position in gimbal frame (x, y, h)\n",
    "pos_c = (0, 0, 0) # Position of object in camera frame (x, y, z)\n",
    "\n",
    "# Position of object in inertial frame (x, y, h)\n",
    "m = zm.transform_camera_to_inertial(ac_pos, ac_att, gim_pos, gim_att, cam_pos, pos_c)"
   ]
  },
  {
   "cell_type": "code",
   "execution_count": 3,
   "id": "contained-financing",
   "metadata": {},
   "outputs": [
    {
     "data": {
      "text/plain": [
       "array([[ 6.123234e-17,  0.000000e+00,  1.000000e+00,  0.000000e+00],\n",
       "       [ 0.000000e+00,  1.000000e+00,  0.000000e+00,  0.000000e+00],\n",
       "       [-1.000000e+00, -0.000000e+00,  6.123234e-17, -0.000000e+00],\n",
       "       [ 0.000000e+00,  0.000000e+00,  0.000000e+00,  1.000000e+00]])"
      ]
     },
     "execution_count": 3,
     "metadata": {},
     "output_type": "execute_result"
    }
   ],
   "source": [
    "pos_i"
   ]
  },
  {
   "cell_type": "code",
   "execution_count": null,
   "id": "realistic-grenada",
   "metadata": {},
   "outputs": [],
   "source": []
  }
 ],
 "metadata": {
  "kernelspec": {
   "display_name": "Python 3",
   "language": "python",
   "name": "python3"
  },
  "language_info": {
   "codemirror_mode": {
    "name": "ipython",
    "version": 3
   },
   "file_extension": ".py",
   "mimetype": "text/x-python",
   "name": "python",
   "nbconvert_exporter": "python",
   "pygments_lexer": "ipython3",
   "version": "3.9.2"
  }
 },
 "nbformat": 4,
 "nbformat_minor": 5
}
